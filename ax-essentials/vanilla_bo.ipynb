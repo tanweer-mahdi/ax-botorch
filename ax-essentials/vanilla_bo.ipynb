{
 "cells": [
  {
   "cell_type": "code",
   "execution_count": 61,
   "metadata": {},
   "outputs": [],
   "source": [
    "import math\n",
    "\n",
    "from ax.service.utils.instantiation import ObjectiveProperties\n",
    "from ax.service.ax_client import AxClient\n",
    "from ax.models.torch.botorch_modular.surrogate import Surrogate\n",
    "from ax.modelbridge.registry import Models\n",
    "from ax.modelbridge.generation_strategy import GenerationStep, GenerationStrategy\n",
    "from gpytorch.constraints.constraints import GreaterThan\n",
    "from gpytorch.likelihoods.gaussian_likelihood import (\n",
    "    GaussianLikelihood,\n",
    ")\n",
    "from gpytorch.priors import GammaPrior, LogNormalPrior\n",
    "from gpytorch.kernels import RBFKernel, MaternKernel\n",
    "import numpy as np\n",
    "import os\n",
    "from os.path import dirname, abspath, join\n",
    "import sys\n",
    "import json\n",
    "import torch\n",
    "from time import time\n",
    "from botorch.acquisition import (\n",
    "    qNoisyExpectedImprovement,\n",
    ")\n",
    "from botorch.acquisition.logei import qLogNoisyExpectedImprovement\n",
    "from botorch.test_functions import (\n",
    "    Hartmann,\n",
    "    Levy,\n",
    ")\n",
    "from botorch.models import SingleTaskGP\n",
    "from utils.synthetic import Embedded"
   ]
  },
  {
   "cell_type": "code",
   "execution_count": 6,
   "metadata": {},
   "outputs": [],
   "source": [
    "ACQUISITION_FUNCTIONS = {\n",
    "    'NEI': qNoisyExpectedImprovement,\n",
    "    'qLogNEI': qLogNoisyExpectedImprovement,\n",
    "}\n",
    "\n",
    "INITS = {\n",
    "    'sobol': Models.SOBOL,\n",
    "}\n",
    "\n",
    "TEST_FUNCTIONS = {\n",
    "    'levy4_1000': (Embedded, dict(function=Levy(dim=4), noise_std=0.0, negate=True, dim=1000))\n",
    "}"
   ]
  },
  {
   "cell_type": "code",
   "execution_count": 18,
   "metadata": {},
   "outputs": [],
   "source": [
    "num_init = math.ceil(3 * 1000 ** 0.5)\n",
    "num_bo = 1000 - num_init"
   ]
  },
  {
   "cell_type": "code",
   "execution_count": 57,
   "metadata": {},
   "outputs": [],
   "source": [
    "# acquistion function\n",
    "acq_func = ACQUISITION_FUNCTIONS['qLogNEI']\n",
    "\n",
    "bound_list = []\n",
    "\n",
    "for _ in range(1000):\n",
    "    bound_list.append([0.0, 1.0])\n",
    "bounds = torch.tensor(bound_list).transpose(1, 0)\n",
    "acq_kwargs = {\"acq_kwargs\" : True}\n",
    "\n",
    "gp_params = {\n",
    "    \"const\" : {\n",
    "        \"loc\" : 0.0,\n",
    "        \"scale\" : 1.0\n",
    "    },\n",
    "    \"ls\" : {\n",
    "        \"loc\" : 1.4,\n",
    "        \"scale\" : 1.73205\n",
    "    },\n",
    "    \"noise\" : {\n",
    "        \"loc\" : -4,\n",
    "        \"scale\" : 1.0\n",
    "    }\n",
    "}"
   ]
  },
  {
   "cell_type": "code",
   "execution_count": 58,
   "metadata": {},
   "outputs": [],
   "source": [
    "ls_params = gp_params.get(\"ls\", {})\n",
    "ops_params = gp_params.get(\"ops\", {})\n",
    "noise_params = gp_params.get(\"noise\", {})"
   ]
  },
  {
   "cell_type": "code",
   "execution_count": 59,
   "metadata": {},
   "outputs": [],
   "source": [
    "model_kwargs = {\n",
    "    'covar_module_class' : RBFKernel,\n",
    "    'covar_module_options' : dict(\n",
    "        ard_num_dims = 1000,\n",
    "        lengthscale_prior = LogNormalPrior(**ls_params),\n",
    "        lengthscale_constraint = GreaterThan(1e-4),\n",
    "    ),\n",
    "    'likelihood_class' : GaussianLikelihood,\n",
    "    'likelihood_options' : dict(\n",
    "        noise_prior = LogNormalPrior(**noise_params),\n",
    "        noise_constraint = GreaterThan(1e-4)\n",
    "    )\n",
    "}"
   ]
  },
  {
   "cell_type": "code",
   "execution_count": 60,
   "metadata": {},
   "outputs": [],
   "source": [
    "init_type = Models.SOBOL\n",
    "init_kwargs = {\n",
    "    \"seed\" : 42\n",
    "}\n",
    "steps = [\n",
    "    GenerationStep(\n",
    "        model = init_type,\n",
    "        num_trials = num_init,\n",
    "        model_kwargs = init_kwargs\n",
    "    )\n",
    "]"
   ]
  },
  {
   "cell_type": "code",
   "execution_count": 63,
   "metadata": {},
   "outputs": [],
   "source": [
    "# optimization setuo\n",
    "model = SingleTaskGP\n",
    "bo_step = GenerationStep(\n",
    "    model=Models.BOTORCH_MODULAR,\n",
    "    num_trials=num_bo,\n",
    "    model_kwargs={\n",
    "        \"surrogate\" : Surrogate(\n",
    "            botorch_model_class=model,\n",
    "            covar_module_class=model_kwargs['covar_module_class'],\n",
    "            covar_module_options=model_kwargs['covar_module_options'],\n",
    "            likelihood_class=model_kwargs['likelihood_class'],\n",
    "            likelihood_options=model_kwargs['likelihood_options']\n",
    "        ),\n",
    "        \"botorch_acqf_class\" : acq_func,\n",
    "        \"acquisition_options\" : {\"prune_baseline\": True}\n",
    "    }\n",
    ")\n",
    "steps.append(bo_step)"
   ]
  },
  {
   "cell_type": "code",
   "execution_count": null,
   "metadata": {},
   "outputs": [],
   "source": []
  }
 ],
 "metadata": {
  "kernelspec": {
   "display_name": ".venv",
   "language": "python",
   "name": "python3"
  },
  "language_info": {
   "codemirror_mode": {
    "name": "ipython",
    "version": 3
   },
   "file_extension": ".py",
   "mimetype": "text/x-python",
   "name": "python",
   "nbconvert_exporter": "python",
   "pygments_lexer": "ipython3",
   "version": "3.12.4"
  }
 },
 "nbformat": 4,
 "nbformat_minor": 2
}
